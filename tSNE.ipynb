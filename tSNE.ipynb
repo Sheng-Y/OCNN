{
 "cells": [
  {
   "cell_type": "code",
   "execution_count": null,
   "metadata": {},
   "outputs": [],
   "source": [
    "from sklearn.manifold import TSNE\n",
    "from sklearn.preprocessing import StandardScaler\n",
    "import os\n",
    "import numpy as np\n",
    "import matplotlib.pyplot as plt\n",
    "from matplotlib import cm, axes\n",
    "\n",
    "def loaddata(path):\n",
    "    data = np.loadtxt(path, dtype='float',delimiter=',',skiprows=1)\n",
    "    labelnum = data[:,:1]\n",
    "    label = []\n",
    "    for i in range(len(labelnum)):\n",
    "        label.append(int(labelnum[i]))\n",
    "    data = data[:,1:]\n",
    "    return label, data\n",
    "\n",
    "path = 'xxx.csv'\n",
    "label, data = loaddata(path)\n",
    "sc = StandardScaler()\n",
    "data_std = sc.fit_transform(data)"
   ]
  },
  {
   "cell_type": "code",
   "execution_count": null,
   "metadata": {},
   "outputs": [],
   "source": [
    "tsne = TSNE(n_components=x, learning_rate=x, perplexity=x)\n",
    "data_tsne = tsne.fit_transform(data_std)\n",
    "plt.scatter(data_tsne[:,0], data_tsne[:,1], c=label)"
   ]
  }
 ],
 "metadata": {
  "kernelspec": {
   "display_name": "Python 3",
   "language": "python",
   "name": "python3"
  },
  "language_info": {
   "codemirror_mode": {
    "name": "ipython",
    "version": 3
   },
   "file_extension": ".py",
   "mimetype": "text/x-python",
   "name": "python",
   "nbconvert_exporter": "python",
   "pygments_lexer": "ipython3",
   "version": "3.6.9"
  }
 },
 "nbformat": 4,
 "nbformat_minor": 2
}
