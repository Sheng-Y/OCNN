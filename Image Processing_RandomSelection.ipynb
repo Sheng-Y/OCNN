{
 "cells": [
  {
   "cell_type": "code",
   "execution_count": 6,
   "metadata": {},
   "outputs": [],
   "source": [
    "import os, random, shutil"
   ]
  },
  {
   "cell_type": "code",
   "execution_count": 59,
   "metadata": {},
   "outputs": [],
   "source": [
    "def RandomSelection(fileDir,tarDir):\n",
    "    pathDir = os.listdir(fileDir)\n",
    "    sample = random.sample(pathDir,number)\n",
    "    for name in sample:\n",
    "        shutil.move(fileDir+name, tarDir+name)"
   ]
  },
  {
   "cell_type": "code",
   "execution_count": 60,
   "metadata": {},
   "outputs": [],
   "source": [
    "fileDir = './xxx/'\n",
    "tarDir = './xxx/xxx/'\n",
    "RandomSelection(fileDir,tarDir)"
   ]
  }
 ],
 "metadata": {
  "kernelspec": {
   "display_name": "Python 3",
   "language": "python",
   "name": "python3"
  },
  "language_info": {
   "codemirror_mode": {
    "name": "ipython",
    "version": 3
   },
   "file_extension": ".py",
   "mimetype": "text/x-python",
   "name": "python",
   "nbconvert_exporter": "python",
   "pygments_lexer": "ipython3",
   "version": "3.6.9"
  }
 },
 "nbformat": 4,
 "nbformat_minor": 2
}
