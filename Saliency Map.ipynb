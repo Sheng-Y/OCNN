{
 "cells": [
  {
   "cell_type": "code",
   "execution_count": null,
   "metadata": {},
   "outputs": [],
   "source": [
    "%reload_ext autoreload\n",
    "%autoreload 2\n",
    "\n",
    "import numpy as np\n",
    "from matplotlib import pyplot as plt\n",
    "%matplotlib inline\n",
    "\n",
    "import tensorflow as tf\n",
    "from tf_keras_vis.utils import num_of_gpus\n",
    "\n",
    "_, gpus = num_of_gpus()\n",
    "print('{} GPUs'.format(gpus))\n",
    "\n",
    "import tensorflow as tf\n",
    "print('tensorflow version:{}'.format(tf.__version__))\n",
    "import tensorflow as tf\n",
    "print(tf.test.is_gpu_available())"
   ]
  },
  {
   "cell_type": "code",
   "execution_count": null,
   "metadata": {},
   "outputs": [],
   "source": [
    "from keras.preprocessing import image\n",
    "import numpy as np\n",
    "import cv2,os, keras\n",
    "from keras.models import load_model\n",
    "\n",
    "SavePath = 'xxx'\n",
    "ModelName = 'xxx'\n",
    "base_dir = 'xxx'\n",
    "train_dir = os.path.join(base_dir, 'train/')\n",
    "validation_dir = os.path.join(base_dir, 'validation/')\n",
    "IMAGES_FORMAT = ['.jpg']\n",
    "\n",
    "model = load_model(SavePath+ModelName+'.hdf5')\n",
    "model.summary()"
   ]
  },
  {
   "cell_type": "code",
   "execution_count": null,
   "metadata": {},
   "outputs": [],
   "source": [
    "import matplotlib.pyplot as plt\n",
    "from keras.preprocessing import image\n",
    "\n",
    "def loss(output):\n",
    "    return (output[0,0])\n",
    "\n",
    "def model_modifier(m):\n",
    "    m.layers[-1].activation = tf.keras.activations.linear\n",
    "    return m\n",
    "\n",
    "from tensorflow.keras import backend as K\n",
    "from tf_keras_vis.saliency import Saliency\n",
    "from tf_keras_vis.utils import normalize\n",
    "\n",
    "def saliency(img_path,filename,sorf):\n",
    "    print(img_path)\n",
    "    img = image.load_img(img_path, target_size=(299, 299))\n",
    "    images = np.asarray([np.array(img)])\n",
    "    x = images/255\n",
    "    y = image.img_to_array(img)\n",
    "    y = np.expand_dims(y, axis=0)\n",
    "    y /= 255\n",
    "    pred=model.predict(y)\n",
    "    print(pred)\n",
    "    saliency = Saliency(model,model_modifier=model_modifier,clone=False)\n",
    "    saliency_map = saliency(loss, x,smooth_samples=20, smooth_noise=0.20)\n",
    "    saliency_map = normalize(saliency_map)\n",
    "    fig = plt.figure()\n",
    "    ax = fig.add_subplot()\n",
    "    ax.imshow(saliency_map[0], cmap='jet')\n",
    "    saliency_map = np.uint8(255 * saliency_map[0])\n",
    "    saliency_map = cv2.applyColorMap(saliency_map, cv2.COLORMAP_JET)\n",
    "    path = SavePath+'saliency/'+sorf\n",
    "    cv2.imwrite(path+'/'+filename[:-4]+' p='+str(pred[0,1])+'Saliency_map.jpg', saliency_map)\n",
    "    superimposed_img = saliency_map * 0.4 + img\n",
    "    cv2.imwrite(path+'/'+filename[:-4]+' p='+str(pred[0,1])+'Superimposed.jpg', superimposed_img)\n",
    "\n",
    "vali_fail_dir = validation_dir+'BA/'\n",
    "fileDir=os.listdir(vali_fail_dir)\n",
    "\n",
    "for m in range(len(fileDir)):\n",
    "    saliency(vali_fail_dir+fileDir[m],fileDir[m],'BA')\n",
    "    \n",
    "vali_succ_dir = validation_dir+'OS/'\n",
    "fileDir=os.listdir(vali_succ_dir)\n",
    "\n",
    "for m in range(len(fileDir)):\n",
    "    saliency(vali_succ_dir+fileDir[m],fileDir[m],'OS')"
   ]
  }
 ],
 "metadata": {
  "kernelspec": {
   "display_name": "Python 3",
   "language": "python",
   "name": "python3"
  },
  "language_info": {
   "codemirror_mode": {
    "name": "ipython",
    "version": 3
   },
   "file_extension": ".py",
   "mimetype": "text/x-python",
   "name": "python",
   "nbconvert_exporter": "python",
   "pygments_lexer": "ipython3",
   "version": "3.6.9"
  }
 },
 "nbformat": 4,
 "nbformat_minor": 4
}
