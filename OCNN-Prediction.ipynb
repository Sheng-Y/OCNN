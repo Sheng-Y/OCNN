{
 "cells": [
  {
   "cell_type": "code",
   "execution_count": null,
   "metadata": {},
   "outputs": [],
   "source": [
    "from keras.models import load_model\n",
    "\n",
    "model = load_model('./Model/ocnn-x-day.h5')"
   ]
  },
  {
   "cell_type": "code",
   "execution_count": null,
   "metadata": {},
   "outputs": [],
   "source": [
    "K = len(os.listdir(validation_dir+'/'+os.listdir(validation_dir)[0])) + len(os.listdir(validation_dir+'/'+os.listdir(validation_dir)[1]))\n",
    "print(K)\n",
    "\n",
    "import os\n",
    "import csv\n",
    "import numpy as np\n",
    "import matplotlib.pyplot as plt\n",
    "from matplotlib import cm\n",
    "from matplotlib import axes\n",
    "from matplotlib.font_manager import FontProperties\n",
    "from sklearn.metrics import roc_curve, auc\n",
    "from keras.preprocessing.image import ImageDataGenerator\n",
    "from keras import models\n",
    "from keras import layers\n",
    "from keras import optimizers\n",
    "from PIL import Image\n",
    "\n",
    "batch_size=40\n",
    "validation_labels = np.zeros(shape=(K,2))\n",
    "validation_generator2 = validation_datagen.flow_from_directory(\n",
    "    validation_dir,\n",
    "    target_size=(299, 299),\n",
    "    batch_size=batch_size,\n",
    "    class_mode='categorical',\n",
    "    shuffle=False)\n",
    "i = 0\n",
    "for ____, labels_batch in validation_generator2:\n",
    "    validation_labels[i * batch_size : (i + 1) * batch_size] = labels_batch\n",
    "    i += 1\n",
    "    if i * batch_size >= K:\n",
    "        break\n",
    "\n",
    "preds = model.predict_generator(validation_generator2, steps=int(np.ceil(K/batch_size)))\n",
    "\n",
    "import tensorflow.compat.v1 as tf\n",
    "\n",
    "tf.compat.v1.disable_eager_execution()\n",
    "x = tf.strided_slice(preds,[0,1],[K+1,2])\n",
    "y = tf.strided_slice(validation_labels,[0,1],[K+1,2])\n",
    "x1 = tf.strided_slice(preds,[0,0],[K+1,1])\n",
    "y1 = tf.strided_slice(validation_labels,[0,0],[K+1,1])\n",
    "\n",
    "with tf.Session() as sess:\n",
    "    preds2 = sess.run(x)\n",
    "    validation_labels2 = sess.run(y)\n",
    "    preds3 = sess.run(x1)\n",
    "    validation_labels3 = sess.run(y1)\n",
    "    \n",
    "preds4 = np.reshape(preds3, (len(preds3)))\n",
    "preds5 = np.reshape(preds2, (len(preds2)))\n",
    "headers = ['Names','Labels','Predictions0','Predictions1']\n",
    "image_names = [name for name in os.listdir('./XXX/TEST/'+'1') for item in IMAGES_FORMAT if os.path.splitext(name)[1] == item]\n",
    "with open(SavePath+'Predictions/xxx_TEST/Predictions_test'+ModelName+'.csv','w',newline='') as f:\n",
    "    f_csv = csv.writer(f)\n",
    "    f_csv.writerow(headers)\n",
    "    for i in range(len(preds2)):\n",
    "        f_csv.writerow([image_names[i],train_labels[i],preds4[i],preds5[i]])"
   ]
  }
 ],
 "metadata": {
  "kernelspec": {
   "display_name": "Python 3",
   "language": "python",
   "name": "python3"
  },
  "language_info": {
   "codemirror_mode": {
    "name": "ipython",
    "version": 3
   },
   "file_extension": ".py",
   "mimetype": "text/x-python",
   "name": "python",
   "nbconvert_exporter": "python",
   "pygments_lexer": "ipython3",
   "version": "3.6.9"
  }
 },
 "nbformat": 4,
 "nbformat_minor": 2
}
